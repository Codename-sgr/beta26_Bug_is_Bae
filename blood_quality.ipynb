{
  "nbformat": 4,
  "nbformat_minor": 0,
  "metadata": {
    "colab": {
      "name": "blood_quality.ipynb",
      "provenance": [],
      "collapsed_sections": []
    },
    "kernelspec": {
      "name": "python3",
      "display_name": "Python 3"
    }
  },
  "cells": [
    {
      "cell_type": "code",
      "metadata": {
        "id": "eMXvyQ8bdNtw"
      },
      "source": [
        "import numpy as np\n",
        "import pandas as pd\n",
        "import matplotlib.pyplot as plt"
      ],
      "execution_count": 27,
      "outputs": []
    },
    {
      "cell_type": "code",
      "metadata": {
        "id": "e28nvIYCe-cX",
        "outputId": "e01117f0-5468-47cb-f44f-ba4c73c72760",
        "colab": {
          "base_uri": "https://localhost:8080/"
        }
      },
      "source": [
        "!pip install python-firebase"
      ],
      "execution_count": 28,
      "outputs": [
        {
          "output_type": "stream",
          "text": [
            "Collecting python-firebase\n",
            "  Downloading https://files.pythonhosted.org/packages/32/e6/88b799753e64aeb0f24040b98c94012994cf9517c889dee4f8a49ac89400/python-firebase-1.2.tar.gz\n",
            "Requirement already satisfied: requests>=1.1.0 in /usr/local/lib/python3.6/dist-packages (from python-firebase) (2.23.0)\n",
            "Requirement already satisfied: certifi>=2017.4.17 in /usr/local/lib/python3.6/dist-packages (from requests>=1.1.0->python-firebase) (2020.6.20)\n",
            "Requirement already satisfied: chardet<4,>=3.0.2 in /usr/local/lib/python3.6/dist-packages (from requests>=1.1.0->python-firebase) (3.0.4)\n",
            "Requirement already satisfied: urllib3!=1.25.0,!=1.25.1,<1.26,>=1.21.1 in /usr/local/lib/python3.6/dist-packages (from requests>=1.1.0->python-firebase) (1.24.3)\n",
            "Requirement already satisfied: idna<3,>=2.5 in /usr/local/lib/python3.6/dist-packages (from requests>=1.1.0->python-firebase) (2.10)\n",
            "Building wheels for collected packages: python-firebase\n",
            "  Building wheel for python-firebase (setup.py) ... \u001b[?25l\u001b[?25hdone\n",
            "  Created wheel for python-firebase: filename=python_firebase-1.2-cp36-none-any.whl size=11533 sha256=de603b9c153ac8da36e60152d2ba835c10fad1f4b4bbf1cda530a23323aa74e2\n",
            "  Stored in directory: /root/.cache/pip/wheels/ba/40/ca/e41a25d7abb787092e837cb0f91f33b04b1a8fd9d17c2d33a6\n",
            "Successfully built python-firebase\n",
            "Installing collected packages: python-firebase\n",
            "Successfully installed python-firebase-1.2\n"
          ],
          "name": "stdout"
        }
      ]
    },
    {
      "cell_type": "code",
      "metadata": {
        "id": "9n3ub9PJfCx2"
      },
      "source": [
        "major_categories = ['Id', 'Weight', 'Height', 'Blood_Group', 'PMD', 'Tattoos', 'Alcohol', 'Smoker', 'Age', 'Haemoglobin', 'Sports/gym', 'Sleeping_hours', 'Average_pulse_rate', 'fears' ]\n",
        "PMD_categories = ['Jaundice', 'Cardiac', 'Diabetes', 'Anemia', 'Blood Pressure']\n",
        "Drinking_alc =['daily', 'regular', 'occasional']\n",
        "fears = ['Needles', 'Blood']\n"
      ],
      "execution_count": 29,
      "outputs": []
    },
    {
      "cell_type": "code",
      "metadata": {
        "id": "p16EoRIAmv9y",
        "outputId": "fa0afcd9-a44a-4be5-f880-d7574161ebdc",
        "colab": {
          "base_uri": "https://localhost:8080/",
          "height": 77
        }
      },
      "source": [
        "datatable= pd.DataFrame(data=[], columns= major_categories)\n",
        "datatable.loc[0]=[10001]+[67]+[170]+['B+']+['No']+['No'] + ['No']+['No']+[21]+[13.8]+[\"Yes\"]+ [6]+[72]+[None]\n",
        "datatable"
      ],
      "execution_count": 30,
      "outputs": [
        {
          "output_type": "execute_result",
          "data": {
            "text/html": [
              "<div>\n",
              "<style scoped>\n",
              "    .dataframe tbody tr th:only-of-type {\n",
              "        vertical-align: middle;\n",
              "    }\n",
              "\n",
              "    .dataframe tbody tr th {\n",
              "        vertical-align: top;\n",
              "    }\n",
              "\n",
              "    .dataframe thead th {\n",
              "        text-align: right;\n",
              "    }\n",
              "</style>\n",
              "<table border=\"1\" class=\"dataframe\">\n",
              "  <thead>\n",
              "    <tr style=\"text-align: right;\">\n",
              "      <th></th>\n",
              "      <th>Id</th>\n",
              "      <th>Weight</th>\n",
              "      <th>Height</th>\n",
              "      <th>Blood_Group</th>\n",
              "      <th>PMD</th>\n",
              "      <th>Tattoos</th>\n",
              "      <th>Alcohol</th>\n",
              "      <th>Smoker</th>\n",
              "      <th>Age</th>\n",
              "      <th>Haemoglobin</th>\n",
              "      <th>Sports/gym</th>\n",
              "      <th>Sleeping_hours</th>\n",
              "      <th>Average_pulse_rate</th>\n",
              "      <th>fears</th>\n",
              "    </tr>\n",
              "  </thead>\n",
              "  <tbody>\n",
              "    <tr>\n",
              "      <th>0</th>\n",
              "      <td>10001</td>\n",
              "      <td>67</td>\n",
              "      <td>170</td>\n",
              "      <td>B+</td>\n",
              "      <td>No</td>\n",
              "      <td>No</td>\n",
              "      <td>No</td>\n",
              "      <td>No</td>\n",
              "      <td>21</td>\n",
              "      <td>13.8</td>\n",
              "      <td>Yes</td>\n",
              "      <td>6</td>\n",
              "      <td>72</td>\n",
              "      <td>None</td>\n",
              "    </tr>\n",
              "  </tbody>\n",
              "</table>\n",
              "</div>"
            ],
            "text/plain": [
              "      Id Weight Height  ... Sleeping_hours Average_pulse_rate fears\n",
              "0  10001     67    170  ...              6                 72  None\n",
              "\n",
              "[1 rows x 14 columns]"
            ]
          },
          "metadata": {
            "tags": []
          },
          "execution_count": 30
        }
      ]
    },
    {
      "cell_type": "code",
      "metadata": {
        "id": "lWMyrh8DJ5F0"
      },
      "source": [
        "def bmi_calc (height, weight):\n",
        "  height=height/100\n",
        "  bmi=weight/(height**2)\n",
        "  return bmi\n",
        "\n",
        "\n",
        "def reject_conditions (age, height, weight, tattoo_date, alc_score, smoke_score, haemo=13):\n",
        "  valid_user=1\n",
        "  if (age<18 or age>60):\n",
        "    valid_user=0\n",
        "  if (bmi_calc(height, weight)>30):\n",
        "    valid_user=0\n",
        "  if(tattoo_date==0):\n",
        "    valid_user=0\n",
        "  if alc_score==5 or smoke_score==5:\n",
        "    valid_user=0\n",
        "  if (haemo<13):\n",
        "    valid_user=0\n",
        "\n",
        "  return valid_user\n",
        "  "
      ],
      "execution_count": 53,
      "outputs": []
    },
    {
      "cell_type": "code",
      "metadata": {
        "id": "eM1J3-z8NsfC"
      },
      "source": [
        "#Helper functions\n",
        "\n",
        "def age_quality(age):\n",
        "  qa=0\n",
        "  if (age>18 and age<23):\n",
        "    qa-=1\n",
        "  if(age>=45 and age<55):\n",
        "    qa=-1.5\n",
        "  if(age>=55 and age<60):\n",
        "    qa=-3\n",
        "  return qa\n",
        "\n",
        "  \n",
        "\n",
        "def bmi_checker(height, weight):\n",
        "  qa=0\n",
        "  bmi=bmi_calc(height, weight)\n",
        "  if (bmi<18.5):\n",
        "    qa=qa-(18.5-bmi)*1\n",
        "  if (bmi>=18.5 and bmi<=25):\n",
        "    qa=qa\n",
        "  if (bmi>25):\n",
        "    qa=qa-(bmi-25)\n",
        "\n",
        "  return round(qa,2)\n",
        "\n",
        "\n",
        "def past_diseases_checker(past_diseases):\n",
        "  qa=0\n",
        "  l=len(past_diseases)\n",
        "  for d in range(l):\n",
        "    if past_diseases[d]=='Diabetes' or past_diseases[d]=='Cardiac':\n",
        "      qa-=5\n",
        "    if past_diseases[d]=='Jaundice':\n",
        "      qa-=3\n",
        "    if past_diseases[d]=='Blood Pressure':\n",
        "      qa=-2\n",
        "  return qa\n",
        "\n",
        "\n",
        "def tattoo_score(t_date):\n",
        "  return (6-t_date)*0.7\n",
        "\n",
        "\n",
        "def toxic_subs(alc_s, smo_s):\n",
        "  qa=0\n",
        "  qa-= (alc_s*0.6 + smo_s*0.7)\n",
        "  return round(qa,2)\n",
        "\n",
        "\n",
        "def heart_fitness (avg_hr, haemo=14):\n",
        "  qa=0\n",
        "  if (haemo<13.8):\n",
        "    qa=qa-1.5\n",
        "  if (avg_hr<65 or avg_hr>95):\n",
        "    qa-=2\n",
        "  return qa\n",
        "\n",
        "\n",
        "\n",
        "def fit_exer (sportsgym):\n",
        "  if sportsgym==1:\n",
        "    return 1\n",
        "  else:\n",
        "    return -1\n",
        "\n",
        "def sleep_check(avg_sl):\n",
        "  qa=0\n",
        "  if (avg_sl<6):\n",
        "    qa-=(6-avg_sl)\n",
        "  if(avg_sl>=6 and avg_sl<=8):\n",
        "    qa+=1\n",
        "  if (avg_sl>8):\n",
        "    qa-=(avg_sl-8)\n",
        "  return qa\n",
        "\n",
        "\n",
        "\n",
        "\n",
        "\n",
        "\n",
        "\n",
        "\n",
        "\n",
        "\n"
      ],
      "execution_count": 56,
      "outputs": []
    },
    {
      "cell_type": "code",
      "metadata": {
        "id": "EMefC9F9PUfh"
      },
      "source": [
        "def quality_index (age, height, weight, past_diseases, tattoo_date, alc_score, smoke_score, sportsgym, average_sleep, heart_rate, haemo=14):\n",
        "  health_score = 100\n",
        "  age_qa=age_quality(age)\n",
        "  bmi_qa= bmi_checker(height, weight)\n",
        "  pd_qa= past_diseases_checker(past_diseases)\n",
        "  tat_qa=tattoo_score(tattoo_date)\n",
        "  alc_sm_qa=toxic_subs(alc_score, smoke_score)\n",
        "  heart_qa=heart_fitness(heart_rate, haemo)\n",
        "  spo_qa=fit_exer(sportsgym)\n",
        "  slp_qa = sleep_check(average_sleep)\n",
        "  health_score+=(age_qa+bmi_qa+pd_qa+tat_qa+alc_sm_qa+heart_qa+spo_qa+slp_qa)\n",
        "  return health_score"
      ],
      "execution_count": 63,
      "outputs": []
    },
    {
      "cell_type": "code",
      "metadata": {
        "id": "yn-3ZDytTGAs",
        "outputId": "39ffc517-ca23-4426-eb99-037ed4c41bfb",
        "colab": {
          "base_uri": "https://localhost:8080/"
        }
      },
      "source": [
        "quality_index (21, 170, 76, ['Jaundice'], 6, 0, 0, 13.8, 1, 5, 75)\n",
        "\n",
        "\n",
        "  \n"
      ],
      "execution_count": 64,
      "outputs": [
        {
          "output_type": "execute_result",
          "data": {
            "text/plain": [
              "86.7"
            ]
          },
          "metadata": {
            "tags": []
          },
          "execution_count": 64
        }
      ]
    },
    {
      "cell_type": "code",
      "metadata": {
        "id": "2KDsVQQqmwyp"
      },
      "source": [
        "from firebase import firebase\n"
      ],
      "execution_count": 66,
      "outputs": []
    },
    {
      "cell_type": "code",
      "metadata": {
        "id": "uUAXZ9GLtlvY"
      },
      "source": [
        "\n",
        "firebase = firebase.FirebaseApplication('https://bloodhive-27308.firebaseio.com/', None)"
      ],
      "execution_count": 67,
      "outputs": []
    },
    {
      "cell_type": "code",
      "metadata": {
        "id": "y-uFEBCBtybe",
        "outputId": "0e6fbe67-9009-4196-c35a-3e308f8ba221",
        "colab": {
          "base_uri": "https://localhost:8080/"
        }
      },
      "source": [
        "firebase.get ('/Manit/', None)"
      ],
      "execution_count": 73,
      "outputs": [
        {
          "output_type": "execute_result",
          "data": {
            "text/plain": [
              "{'Donor': {'O+': {'N0o7eiRh6QVXVNncntad9E5t0323': {'activeDonor': False,\n",
              "    'address': 'Ballia',\n",
              "    'age': 19,\n",
              "    'alcoholLevel': 0,\n",
              "    'bloodGroup': 'O+',\n",
              "    'email': 'sagarfootballer07@gmail.com',\n",
              "    'haemoglobin': 10,\n",
              "    'heartRate': 1000,\n",
              "    'height': 186,\n",
              "    'mobile': 0,\n",
              "    'qualityIndex': 82,\n",
              "    'sleepLevel': 8,\n",
              "    'smokingLevel': 0,\n",
              "    'sportsAndGym': True,\n",
              "    'tatoos': False,\n",
              "    'user_id': 'N0o7eiRh6QVXVNncntad9E5t0323',\n",
              "    'user_name': 'Sagar',\n",
              "    'weight': 43}}},\n",
              " 'Users': {'N0o7eiRh6QVXVNncntad9E5t0323': {'aadharNumber': 9827598798375,\n",
              "   'email': 'sagarfootballer07@gmail.com',\n",
              "   'user_id': 'N0o7eiRh6QVXVNncntad9E5t0323',\n",
              "   'user_name': 'Sagar'}}}"
            ]
          },
          "metadata": {
            "tags": []
          },
          "execution_count": 73
        }
      ]
    },
    {
      "cell_type": "code",
      "metadata": {
        "id": "wIVXo7GCueqE"
      },
      "source": [
        ""
      ],
      "execution_count": null,
      "outputs": []
    }
  ]
}