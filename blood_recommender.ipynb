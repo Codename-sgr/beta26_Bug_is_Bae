{
  "nbformat": 4,
  "nbformat_minor": 0,
  "metadata": {
    "colab": {
      "name": "blood_recommender.ipynb",
      "provenance": []
    },
    "kernelspec": {
      "name": "python3",
      "display_name": "Python 3"
    }
  },
  "cells": [
    {
      "cell_type": "code",
      "metadata": {
        "id": "eMXvyQ8bdNtw"
      },
      "source": [
        "import numpy as np\n",
        "import pandas as pd\n",
        "import matplotlib.pyplot as plt"
      ],
      "execution_count": 2,
      "outputs": []
    },
    {
      "cell_type": "code",
      "metadata": {
        "id": "e28nvIYCe-cX",
        "outputId": "dbfacddd-5a5b-41f2-8d91-27e8df30a723",
        "colab": {
          "base_uri": "https://localhost:8080/"
        }
      },
      "source": [
        "!pip install python-firebase"
      ],
      "execution_count": 3,
      "outputs": [
        {
          "output_type": "stream",
          "text": [
            "Collecting python-firebase\n",
            "  Downloading https://files.pythonhosted.org/packages/32/e6/88b799753e64aeb0f24040b98c94012994cf9517c889dee4f8a49ac89400/python-firebase-1.2.tar.gz\n",
            "Requirement already satisfied: requests>=1.1.0 in /usr/local/lib/python3.6/dist-packages (from python-firebase) (2.23.0)\n",
            "Requirement already satisfied: chardet<4,>=3.0.2 in /usr/local/lib/python3.6/dist-packages (from requests>=1.1.0->python-firebase) (3.0.4)\n",
            "Requirement already satisfied: idna<3,>=2.5 in /usr/local/lib/python3.6/dist-packages (from requests>=1.1.0->python-firebase) (2.10)\n",
            "Requirement already satisfied: urllib3!=1.25.0,!=1.25.1,<1.26,>=1.21.1 in /usr/local/lib/python3.6/dist-packages (from requests>=1.1.0->python-firebase) (1.24.3)\n",
            "Requirement already satisfied: certifi>=2017.4.17 in /usr/local/lib/python3.6/dist-packages (from requests>=1.1.0->python-firebase) (2020.6.20)\n",
            "Building wheels for collected packages: python-firebase\n",
            "  Building wheel for python-firebase (setup.py) ... \u001b[?25l\u001b[?25hdone\n",
            "  Created wheel for python-firebase: filename=python_firebase-1.2-cp36-none-any.whl size=11533 sha256=cca31733ca57cc74ba48670f11c91253cde1b65b95e610845d4521cc088bb896\n",
            "  Stored in directory: /root/.cache/pip/wheels/ba/40/ca/e41a25d7abb787092e837cb0f91f33b04b1a8fd9d17c2d33a6\n",
            "Successfully built python-firebase\n",
            "Installing collected packages: python-firebase\n",
            "Successfully installed python-firebase-1.2\n"
          ],
          "name": "stdout"
        }
      ]
    },
    {
      "cell_type": "code",
      "metadata": {
        "id": "9n3ub9PJfCx2"
      },
      "source": [
        "major_categories = ['Id', 'Weight', 'Height', 'Blood_Group', 'PMD', 'Tattoos', 'Alcohol', 'Smoker', 'Age', 'Haemoglobin', 'Sports/gym', 'Sleeping_hours', 'Average_pulse_rate', 'fears' ]\n",
        "PMD_categories = ['Jaundice', 'Cardiac', 'Diabetes', 'Anemia', 'Blood Pressure']\n",
        "Drinking_alc =['daily', 'regular', 'occasional']\n",
        "fears = ['Needles', 'Blood']\n"
      ],
      "execution_count": 10,
      "outputs": []
    },
    {
      "cell_type": "code",
      "metadata": {
        "id": "p16EoRIAmv9y",
        "outputId": "70a58362-bcd1-481f-8808-62956edf6abd",
        "colab": {
          "base_uri": "https://localhost:8080/",
          "height": 77
        }
      },
      "source": [
        "datatable= pd.DataFrame(data=[], columns= major_categories)\n",
        "datatable.loc[0]=[10001]+[67]+[170]+['B+']+['No']+['No'] + ['No']+['No']+[21]+[13.8]+[\"Yes\"]+ [6]+[72]+[None]\n",
        "datatable"
      ],
      "execution_count": 11,
      "outputs": [
        {
          "output_type": "execute_result",
          "data": {
            "text/html": [
              "<div>\n",
              "<style scoped>\n",
              "    .dataframe tbody tr th:only-of-type {\n",
              "        vertical-align: middle;\n",
              "    }\n",
              "\n",
              "    .dataframe tbody tr th {\n",
              "        vertical-align: top;\n",
              "    }\n",
              "\n",
              "    .dataframe thead th {\n",
              "        text-align: right;\n",
              "    }\n",
              "</style>\n",
              "<table border=\"1\" class=\"dataframe\">\n",
              "  <thead>\n",
              "    <tr style=\"text-align: right;\">\n",
              "      <th></th>\n",
              "      <th>Id</th>\n",
              "      <th>Weight</th>\n",
              "      <th>Height</th>\n",
              "      <th>Blood_Group</th>\n",
              "      <th>PMD</th>\n",
              "      <th>Tattoos</th>\n",
              "      <th>Alcohol</th>\n",
              "      <th>Smoker</th>\n",
              "      <th>Age</th>\n",
              "      <th>Haemoglobin</th>\n",
              "      <th>Sports/gym</th>\n",
              "      <th>Sleeping_hours</th>\n",
              "      <th>Average_pulse_rate</th>\n",
              "      <th>fears</th>\n",
              "    </tr>\n",
              "  </thead>\n",
              "  <tbody>\n",
              "    <tr>\n",
              "      <th>0</th>\n",
              "      <td>10001</td>\n",
              "      <td>67</td>\n",
              "      <td>170</td>\n",
              "      <td>B+</td>\n",
              "      <td>No</td>\n",
              "      <td>No</td>\n",
              "      <td>No</td>\n",
              "      <td>No</td>\n",
              "      <td>21</td>\n",
              "      <td>13.8</td>\n",
              "      <td>Yes</td>\n",
              "      <td>6</td>\n",
              "      <td>72</td>\n",
              "      <td>None</td>\n",
              "    </tr>\n",
              "  </tbody>\n",
              "</table>\n",
              "</div>"
            ],
            "text/plain": [
              "      Id Weight Height  ... Sleeping_hours Average_pulse_rate fears\n",
              "0  10001     67    170  ...              6                 72  None\n",
              "\n",
              "[1 rows x 14 columns]"
            ]
          },
          "metadata": {
            "tags": []
          },
          "execution_count": 11
        }
      ]
    },
    {
      "cell_type": "code",
      "metadata": {
        "id": "1y0gnJXqnoec"
      },
      "source": [
        ""
      ],
      "execution_count": null,
      "outputs": []
    }
  ]
}