{
  "nbformat": 4,
  "nbformat_minor": 0,
  "metadata": {
    "colab": {
      "name": "blood_quality.ipynb",
      "provenance": [],
      "collapsed_sections": []
    },
    "kernelspec": {
      "name": "python3",
      "display_name": "Python 3"
    }
  },
  "cells": [
    {
      "cell_type": "code",
      "metadata": {
        "id": "eMXvyQ8bdNtw"
      },
      "source": [
        "import numpy as np\n",
        "import pandas as pd\n",
        "import matplotlib.pyplot as plt\n",
        "import datetime\n",
        "import json"
      ],
      "execution_count": 132,
      "outputs": []
    },
    {
      "cell_type": "code",
      "metadata": {
        "id": "e28nvIYCe-cX",
        "outputId": "a458d49f-b7e5-44af-b597-76ee0e02cd0e",
        "colab": {
          "base_uri": "https://localhost:8080/"
        }
      },
      "source": [
        "!pip install python-firebase"
      ],
      "execution_count": 94,
      "outputs": [
        {
          "output_type": "stream",
          "text": [
            "Requirement already satisfied: python-firebase in /usr/local/lib/python3.6/dist-packages (1.2)\n",
            "Requirement already satisfied: requests>=1.1.0 in /usr/local/lib/python3.6/dist-packages (from python-firebase) (2.23.0)\n",
            "Requirement already satisfied: idna<3,>=2.5 in /usr/local/lib/python3.6/dist-packages (from requests>=1.1.0->python-firebase) (2.10)\n",
            "Requirement already satisfied: chardet<4,>=3.0.2 in /usr/local/lib/python3.6/dist-packages (from requests>=1.1.0->python-firebase) (3.0.4)\n",
            "Requirement already satisfied: certifi>=2017.4.17 in /usr/local/lib/python3.6/dist-packages (from requests>=1.1.0->python-firebase) (2020.6.20)\n",
            "Requirement already satisfied: urllib3!=1.25.0,!=1.25.1,<1.26,>=1.21.1 in /usr/local/lib/python3.6/dist-packages (from requests>=1.1.0->python-firebase) (1.24.3)\n"
          ],
          "name": "stdout"
        }
      ]
    },
    {
      "cell_type": "code",
      "metadata": {
        "id": "lWMyrh8DJ5F0"
      },
      "source": [
        "def bmi_calc (height, weight):\n",
        "  height=height/100\n",
        "  bmi=weight/(height**2)\n",
        "  return bmi\n",
        "\n",
        "\n",
        "def reject_conditions (age, height, weight, alc_score, smoke_score, haemo=13):\n",
        "  valid_user=1\n",
        "  if (age<18 or age>60):\n",
        "    valid_user=0\n",
        "  if (bmi_calc(height, weight)>30):\n",
        "    valid_user=0\n",
        "  if alc_score==5 or smoke_score==5:\n",
        "    valid_user=0\n",
        "  if (haemo<13):\n",
        "    valid_user=0\n",
        "\n",
        "  return valid_user\n",
        "  "
      ],
      "execution_count": 162,
      "outputs": []
    },
    {
      "cell_type": "code",
      "metadata": {
        "id": "eM1J3-z8NsfC"
      },
      "source": [
        "#Helper functions\n",
        "\n",
        "def age_quality(age):\n",
        "  qa=0\n",
        "  if (age>18 and age<23):\n",
        "    qa-=1\n",
        "  if(age>=45 and age<55):\n",
        "    qa=-1.5\n",
        "  if(age>=55 and age<60):\n",
        "    qa=-3\n",
        "  return qa\n",
        "\n",
        "  \n",
        "\n",
        "def bmi_checker(height, weight):\n",
        "  qa=0\n",
        "  bmi=bmi_calc(height, weight)\n",
        "  if (bmi<18.5):\n",
        "    qa=qa-(18.5-bmi)*1\n",
        "  if (bmi>=18.5 and bmi<=25):\n",
        "    qa=qa\n",
        "  if (bmi>25):\n",
        "    qa=qa-(bmi-25)\n",
        "\n",
        "  return round(qa,2)\n",
        "\n",
        "\n",
        "def past_diseases_checker(past_diseases):\n",
        "  qa=0\n",
        "  l=len(past_diseases)\n",
        "  for d in range(l):\n",
        "    if past_diseases[d]=='Diabetes' or past_diseases[d]=='Cardiac':\n",
        "      qa-=5\n",
        "    if past_diseases[d]=='Jaundice':\n",
        "      qa-=3\n",
        "    if past_diseases[d]=='Blood Pressure':\n",
        "      qa=-2\n",
        "  return qa\n",
        "\n",
        "\n",
        "def tattoo_score(t):\n",
        "  if t==True:\n",
        "    return -4\n",
        "  else:\n",
        "    return 0\n",
        "\n",
        "\n",
        "def toxic_subs(alc_s, smo_s):\n",
        "  qa=0\n",
        "  qa-= (alc_s*0.6 + smo_s*0.7)\n",
        "  return round(qa,2)\n",
        "\n",
        "\n",
        "def heart_fitness (avg_hr, haemo=14):\n",
        "  qa=0\n",
        "  if (haemo<13.8):\n",
        "    qa=qa-1.5\n",
        "  if (avg_hr<65 or avg_hr>95):\n",
        "    qa-=2\n",
        "  return qa\n",
        "\n",
        "\n",
        "\n",
        "def fit_exer (sportsgym):\n",
        "  if sportsgym==True:\n",
        "    return 1\n",
        "  else:\n",
        "    return -1\n",
        "\n",
        "def sleep_check(avg_sl):\n",
        "  qa=0\n",
        "  if (avg_sl<6):\n",
        "    qa-=(6-avg_sl)\n",
        "  if(avg_sl>=6 and avg_sl<=8):\n",
        "    qa+=1\n",
        "  if (avg_sl>8):\n",
        "    qa-=(avg_sl-8)\n",
        "  return qa\n",
        "\n",
        "\n",
        "\n",
        "\n",
        "\n",
        "\n",
        "\n",
        "\n",
        "\n",
        "\n"
      ],
      "execution_count": 153,
      "outputs": []
    },
    {
      "cell_type": "code",
      "metadata": {
        "id": "53G-BTOM68YN"
      },
      "source": [
        ""
      ],
      "execution_count": 153,
      "outputs": []
    },
    {
      "cell_type": "code",
      "metadata": {
        "id": "EMefC9F9PUfh"
      },
      "source": [
        "def quality_index (age, height, weight, past_diseases, tattoo_date, alc_score, smoke_score, sportsgym, average_sleep, heart_rate, haemo=14):\n",
        "  health_score = 100\n",
        "  age_qa=age_quality(age)\n",
        "  bmi_qa= bmi_checker(height, weight)\n",
        "  pd_qa= past_diseases_checker(past_diseases)\n",
        "  tat_qa=tattoo_score(tattoo_date)\n",
        "  alc_sm_qa=toxic_subs(alc_score, smoke_score)\n",
        "  heart_qa=heart_fitness(heart_rate, haemo)\n",
        "  spo_qa=fit_exer(sportsgym)\n",
        "  slp_qa = sleep_check(average_sleep)\n",
        "  health_score+=(age_qa+bmi_qa+pd_qa+tat_qa+alc_sm_qa+heart_qa+spo_qa+slp_qa)\n",
        "  return health_score"
      ],
      "execution_count": 154,
      "outputs": []
    },
    {
      "cell_type": "code",
      "metadata": {
        "id": "yn-3ZDytTGAs",
        "outputId": "524b2724-c68c-4651-e27e-fc912b9a63fb",
        "colab": {
          "base_uri": "https://localhost:8080/"
        }
      },
      "source": [
        "quality_index (21, 170, 76, ['Jaundice'],False, 0, 0, 13.8, True, 5, 75)\n",
        "\n",
        "\n",
        "  \n"
      ],
      "execution_count": 155,
      "outputs": [
        {
          "output_type": "execute_result",
          "data": {
            "text/plain": [
              "86.7"
            ]
          },
          "metadata": {
            "tags": []
          },
          "execution_count": 155
        }
      ]
    },
    {
      "cell_type": "code",
      "metadata": {
        "id": "-KKcehmV4WoZ"
      },
      "source": [
        "def compute (c):\n",
        "  age=c['age']\n",
        "  alc_score=c['alcoholLevel']\n",
        "  haemo= c['haemoglobin']\n",
        "  pd=c['pastDiseases']\n",
        "  h=c['height']\n",
        "  w=c['weight']\n",
        "  tat=c['tatoos']\n",
        "  smo_score=c['smokingLevel']\n",
        "  spogym=c['sportsAndGym']\n",
        "  avg_sl=c['sleepLevel']\n",
        "  heart_rate=c['heartRate']\n",
        "\n",
        "  cond=reject_conditions (age, h, w, alc_score, smo_score, haemo=13)\n",
        "  if(cond==0):\n",
        "    return -1\n",
        "  else:\n",
        "    return quality_index (age, h, w, pd, tat, alc_score, smo_score, haemo, spogym, heart_rate)\n",
        "\n",
        "\n",
        "\n",
        "  \n"
      ],
      "execution_count": 156,
      "outputs": []
    },
    {
      "cell_type": "code",
      "metadata": {
        "id": "2KDsVQQqmwyp"
      },
      "source": [
        "from firebase import firebase\n"
      ],
      "execution_count": 157,
      "outputs": []
    },
    {
      "cell_type": "code",
      "metadata": {
        "id": "uUAXZ9GLtlvY"
      },
      "source": [
        "\n",
        "firebase = firebase.FirebaseApplication('https://bloodhive-27308.firebaseio.com/', None)"
      ],
      "execution_count": 158,
      "outputs": []
    },
    {
      "cell_type": "code",
      "metadata": {
        "id": "DK2ag8GJwr_e",
        "outputId": "43f99385-a0ee-4cda-f1ae-bc9d8bf5ac97",
        "colab": {
          "base_uri": "https://localhost:8080/",
          "height": 35
        }
      },
      "source": [
        "firebase.get ('/Manit/new_user/blood_group', None)"
      ],
      "execution_count": 159,
      "outputs": [
        {
          "output_type": "execute_result",
          "data": {
            "application/vnd.google.colaboratory.intrinsic+json": {
              "type": "string"
            },
            "text/plain": [
              "'O'"
            ]
          },
          "metadata": {
            "tags": []
          },
          "execution_count": 159
        }
      ]
    },
    {
      "cell_type": "code",
      "metadata": {
        "id": "y-uFEBCBtybe"
      },
      "source": [
        "while True:\n",
        "  check=firebase.get ('/Manit/new_user/status', None)\n",
        "  if (check==1):\n",
        "    blood_g=firebase.get('/Manit/new_user/blood_group', None)\n",
        "    user_id=firebase.get('/Manit/new_user/user_id', None)\n",
        "    path='/Manit/Donor/'+blood_g+'/'+user_id\n",
        "    c=firebase.get(path, None)\n",
        "    x=compute (c)\n",
        "    firebase.put(path, 'qualityIndex', x)\n",
        "    firebase.put('/Manit/new_user/', 'status', 0)\n",
        "\n",
        "\n"
      ],
      "execution_count": 165,
      "outputs": []
    },
    {
      "cell_type": "code",
      "metadata": {
        "id": "wIVXo7GCueqE",
        "outputId": "eb392f79-d796-4137-e980-16db77bb5a18",
        "colab": {
          "base_uri": "https://localhost:8080/"
        }
      },
      "source": [
        ""
      ],
      "execution_count": 128,
      "outputs": [
        {
          "output_type": "execute_result",
          "data": {
            "text/plain": [
              "{'activeDonor': False,\n",
              " 'age': 21,\n",
              " 'alcoholLevel': 1,\n",
              " 'bloodGroup': 'O',\n",
              " 'email': 'sagarfootballer07@gmail.com',\n",
              " 'gender': 'Male',\n",
              " 'haemoglobin': 11,\n",
              " 'heartRate': 76,\n",
              " 'height': 178,\n",
              " 'latAdd': '25.7825333',\n",
              " 'longAdd': '84.4768173',\n",
              " 'mobile': '9434484646',\n",
              " 'ok': True,\n",
              " 'pastDiseases': ['Diabetes'],\n",
              " 'qualityIndex': 100,\n",
              " 'sleepLevel': 10,\n",
              " 'smokingLevel': 0,\n",
              " 'sportsAndGym': False,\n",
              " 'tatoos': False,\n",
              " 'user_id': 'N0o7eiRh6QVXVNncntad9E5t0323',\n",
              " 'user_name': 'Sagar',\n",
              " 'weight': 89}"
            ]
          },
          "metadata": {
            "tags": []
          },
          "execution_count": 128
        }
      ]
    },
    {
      "cell_type": "code",
      "metadata": {
        "id": "m4l8ndtabFdP"
      },
      "source": [
        ""
      ],
      "execution_count": null,
      "outputs": []
    }
  ]
}